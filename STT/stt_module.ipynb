{
 "cells": [
  {
   "cell_type": "code",
   "execution_count": 1,
   "id": "2f593441",
   "metadata": {},
   "outputs": [],
   "source": [
    "import sounddevice as sd\n",
    "import numpy as np\n",
    "import whisper\n",
    "import queue\n",
    "import tempfile\n",
    "import os\n",
    "import wave\n"
   ]
  },
  {
   "cell_type": "code",
   "execution_count": 10,
   "id": "68e74efa",
   "metadata": {},
   "outputs": [],
   "source": [
    "# ===== Whisper 모델 로드 =====\n",
    "model = whisper.load_model(\"medium\")  # 속도와 정확도 균형\n",
    "\n",
    "# ===== 음성 녹음 설정 =====\n",
    "SAMPLE_RATE = 16000  # Whisper 권장 샘플링\n",
    "CHANNELS = 1\n",
    "RECORD_SECONDS = 10   # 한 번에 녹음할 길이\n",
    "\n",
    "audio_queue = queue.Queue()"
   ]
  },
  {
   "cell_type": "code",
   "execution_count": 3,
   "id": "d63c703e",
   "metadata": {},
   "outputs": [],
   "source": [
    "# ===== 마이크 입력 콜백 =====\n",
    "def audio_callback(indata, frames, time, status):\n",
    "    if status:\n",
    "        print(f\"[마이크 오류] {status}\")\n",
    "    audio_queue.put(indata.copy())"
   ]
  },
  {
   "cell_type": "code",
   "execution_count": null,
   "id": "a41951da",
   "metadata": {},
   "outputs": [],
   "source": [
    "# ===== 녹음 후 Whisper 처리 함수 =====\n",
    "def get_child_speech():\n",
    "    print(\"🎤 마이크에서 음성을 듣고 있습니다... 5초간 말해보세요.\")\n",
    "    frames = []\n",
    "\n",
    "    with sd.InputStream(\n",
    "        samplerate=SAMPLE_RATE,\n",
    "        channels=CHANNELS,\n",
    "        callback=audio_callback\n",
    "    ):\n",
    "        for _ in range(int(SAMPLE_RATE / 1024 * RECORD_SECONDS)):\n",
    "            frames.append(audio_queue.get())\n",
    "\n",
    "    # numpy 배열로 변환\n",
    "    audio_data = np.concatenate(frames, axis=0)\n",
    "\n",
    "    # 임시 WAV 파일로 저장\n",
    "    with tempfile.NamedTemporaryFile(suffix=\".wav\", delete=False) as tmpfile:\n",
    "        wav_path = tmpfile.name\n",
    "        with wave.open(wav_path, 'w') as wf:\n",
    "            wf.setnchannels(CHANNELS)\n",
    "            wf.setsampwidth(2)  # 16bit\n",
    "            wf.setframerate(SAMPLE_RATE)\n",
    "            wf.writeframes((audio_data * 32767).astype(np.int16).tobytes())\n",
    "\n",
    "    # Whisper로 STT\n",
    "    result = model.transcribe(wav_path, language=\"ko\")\n",
    "    os.remove(wav_path)\n",
    "    text = result.get(\"text\", \"\").strip()\n",
    "    return text\n"
   ]
  },
  {
   "cell_type": "code",
   "execution_count": 12,
   "id": "97f27757",
   "metadata": {},
   "outputs": [
    {
     "name": "stdout",
     "output_type": "stream",
     "text": [
      "🎤 마이크에서 음성을 듣고 있습니다... 5초간 말해보세요.\n",
      "📝 인식 결과: 너무 짜증났을 것 같아\n"
     ]
    }
   ],
   "source": [
    "# ===== 테스트 =====\n",
    "if __name__ == \"__main__\":\n",
    "    transcript = transcribe_live()\n",
    "    print(\"📝 인식 결과:\", transcript)\n"
   ]
  }
 ],
 "metadata": {
  "kernelspec": {
   "display_name": "base",
   "language": "python",
   "name": "python3"
  },
  "language_info": {
   "codemirror_mode": {
    "name": "ipython",
    "version": 3
   },
   "file_extension": ".py",
   "mimetype": "text/x-python",
   "name": "python",
   "nbconvert_exporter": "python",
   "pygments_lexer": "ipython3",
   "version": "3.11.5"
  }
 },
 "nbformat": 4,
 "nbformat_minor": 5
}
