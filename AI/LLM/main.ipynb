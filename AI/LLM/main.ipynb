{
 "cells": [
  {
   "cell_type": "code",
   "execution_count": null,
   "id": "86ad8842",
   "metadata": {},
   "outputs": [
    {
     "name": "stdout",
     "output_type": "stream",
     "text": [
      "현재 작업 디렉토리: c:\\Users\\betty\\Capstone\\LLM\n"
     ]
    }
   ],
   "source": [
    "# main.py\n",
    "import sys\n",
    "import os\n",
    "# LLM 폴더에서 상위 Capstone 루트 추가\n",
    "capstone_root = os.path.abspath(\"..\")  # 현재 LLM의 상위 폴더\n",
    "sys.path.append(capstone_root)\n",
    "\n",
    "from dotenv import load_dotenv\n",
    "from openai import OpenAI\n",
    "\n",
    "# API 키 입력받기\n",
    "api_key = input(\"Enter your OPENAI_API_KEY: \").strip()\n",
    "\n",
    "# 환경 변수로 저장 → 이후 다른 모듈에서도 자동 사용 가능\n",
    "os.environ[\"OPENAI_API_KEY\"] = api_key\n",
    "\n",
    "# 클라이언트 생성\n",
    "client = OpenAI(api_key=api_key)\n",
    "\n",
    "from sel_dialogue_generator import generate_sel_dialogue\n",
    "from sel_dialogue_generator import second_ai\n",
    "from safety_filter import safety_filter\n",
    "from sel_characters import SEL_CHARACTERS\n",
    "\n",
    "from sel_dialogue_generator import ask_experience\n",
    "\n",
    "from sel_dialogue_generator import give_advice\n",
    "\n",
    "from sel_dialogue_generator import action_card\n",
    "\n",
    "print(\"현재 작업 디렉토리:\", os.getcwd())\n",
    "sys.path.append(os.path.abspath(\".\"))  # 현재 폴더\n",
    "from STT.stt_module import get_child_speech\n"
   ]
  },
  {
   "cell_type": "code",
   "execution_count": null,
   "id": "279b2128",
   "metadata": {},
   "outputs": [
    {
     "name": "stdout",
     "output_type": "stream",
     "text": [
      "동화제목: 콩쥐팥쥐\n",
      "장면: 새어머니가 콩쥐에게 구멍 난 항아리에 물을 다 채우라고 시키며 괴롭히는 상황\n",
      "콩쥐: 새어머니가 나한테 구멍 난 항아리에 물을 채우라고 했어. 그때 내 마음이 어땠을 것 같아?\n",
      "🎤 마이크에서 음성을 듣고 있습니다... 5초간 말해보세요.\n"
     ]
    },
    {
     "name": "stderr",
     "output_type": "stream",
     "text": [
      "c:\\Users\\betty\\anaconda3\\Lib\\site-packages\\whisper\\transcribe.py:132: UserWarning: FP16 is not supported on CPU; using FP32 instead\n",
      "  warnings.warn(\"FP16 is not supported on CPU; using FP32 instead\")\n"
     ]
    },
    {
     "name": "stdout",
     "output_type": "stream",
     "text": [
      "\"그랬구나, 정말 그런 기분이 들 수 있지. 왜 그렇게 느꼈을 것 같아?\"\n"
     ]
    }
   ],
   "source": [
    "def main():\n",
    "    story_name = \"콩쥐팥쥐\"\n",
    "    child_age = 6\n",
    "\n",
    "    print(f\"동화제목: {story_name}\")\n",
    "    character_name = SEL_CHARACTERS[story_name]['character_name']\n",
    "    scene = SEL_CHARACTERS[story_name]['scene']\n",
    "    print(f\"장면: {scene}\")\n",
    "    print(f\"{character_name}: {SEL_CHARACTERS[story_name]['intro']}\")\n",
    "    \n",
    "    # intro = SEL_CHARACTERS[story_name]['intro']\n",
    "    number = 0\n",
    "    \n",
    "    while number<2:\n",
    "        # AI가 동화 장면을 소개하고 어떤 감정을 느꼈을 지 물어봄\n",
    "        child_text = input(\"아이의 첫번째 대답:\").strip()\n",
    "        print(child_text)\n",
    "        # child_text = get_child_speech()\n",
    "        # if child_text.lower() in [\"종료\", \"끝\", \"그만\", \"exit\"]:\n",
    "        #     print(\"👋 대화를 마칠게요!\")\n",
    "        #     break\n",
    "        \n",
    "        if(number==0):\n",
    "            # child_text = input(\"아이의 첫번째 대답:\").strip()\n",
    "            unsafe = safety_filter(child_text)\n",
    "            \n",
    "            ai_text, emotion = second_ai(story_name, child_text)\n",
    "            number+=1\n",
    "            if unsafe:\n",
    "                ai_text += \"하지만 그런 말 하면 안돼~\"           \n",
    "            # 아이가 감정을 추정한 것을 듣고 AI가 그 이유를 물어봄    \n",
    "            print(ai_text)\n",
    "        \n",
    "        \n",
    "        if(number==1):\n",
    "            # 아이가 이유를 말함\n",
    "            child_text = input(\"아이의 두번째 대답:\").strip()\n",
    "            print(child_text)\n",
    "            # AI가 아이에게 그런 감정이 든 유사한 경험을 물어봄\n",
    "            ai_third_text = ask_experience(story_name, child_text);  \n",
    "            print(ai_third_text)\n",
    "            number+=1\n",
    "        \n",
    "        if(number==2):\n",
    "            # 아이가 유사한 경험을 말함\n",
    "            child_text = input(\"아이의 세번째 대답:\").strip()\n",
    "            print(child_text)\n",
    "            # 구체적 행동 전략 제안(심호흡 3번 하기) \n",
    "            # ex) 다음에는 그런 일 있으면 심호흡 3번 해볼까?\n",
    "            ai_fourth_text = give_advice(story_name, child_text);  \n",
    "            print(ai_fourth_text)\n",
    "            number+=1\n",
    "        \n",
    "        # AI가 행동카드 제공\n",
    "        if(number==3):\n",
    "            # 아이가 알겠다/싫다 대답\n",
    "            child_text = input(\"아이의 네번째 대답:\").strip()\n",
    "            print(child_text)\n",
    "            # 행동카드 제공\n",
    "            ai_fifth_text = action_card(story_name, child_text);  \n",
    "            print(ai_fifth_text)\n",
    "            number+=1\n",
    "if __name__ == \"__main__\":\n",
    "    main() "
   ]
  },
  {
   "cell_type": "code",
   "execution_count": null,
   "id": "6ada4445",
   "metadata": {},
   "outputs": [],
   "source": []
  },
  {
   "cell_type": "code",
   "execution_count": null,
   "id": "320de14b",
   "metadata": {},
   "outputs": [],
   "source": []
  }
 ],
 "metadata": {
  "kernelspec": {
   "display_name": "base",
   "language": "python",
   "name": "python3"
  },
  "language_info": {
   "codemirror_mode": {
    "name": "ipython",
    "version": 3
   },
   "file_extension": ".py",
   "mimetype": "text/x-python",
   "name": "python",
   "nbconvert_exporter": "python",
   "pygments_lexer": "ipython3",
   "version": "3.11.5"
  }
 },
 "nbformat": 4,
 "nbformat_minor": 5
}
